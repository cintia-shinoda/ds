{
 "cells": [
  {
   "cell_type": "markdown",
   "metadata": {},
   "source": [
    "# Project: Investigating Netflix Movies"
   ]
  },
  {
   "cell_type": "markdown",
   "metadata": {},
   "source": [
    "Perform exploratory data analysis on the ```netflix_data.csv``` data to understand more about movies from the 1990s decade."
   ]
  },
  {
   "cell_type": "code",
   "execution_count": 4,
   "metadata": {},
   "outputs": [
    {
     "name": "stdout",
     "output_type": "stream",
     "text": [
      "<class 'pandas.core.frame.DataFrame'>\n",
      "RangeIndex: 4812 entries, 0 to 4811\n",
      "Data columns (total 11 columns):\n",
      " #   Column        Non-Null Count  Dtype \n",
      "---  ------        --------------  ----- \n",
      " 0   show_id       4812 non-null   object\n",
      " 1   type          4812 non-null   object\n",
      " 2   title         4812 non-null   object\n",
      " 3   director      4812 non-null   object\n",
      " 4   cast          4812 non-null   object\n",
      " 5   country       4812 non-null   object\n",
      " 6   date_added    4812 non-null   object\n",
      " 7   release_year  4812 non-null   int64 \n",
      " 8   duration      4812 non-null   int64 \n",
      " 9   description   4812 non-null   object\n",
      " 10  genre         4812 non-null   object\n",
      "dtypes: int64(2), object(9)\n",
      "memory usage: 413.7+ KB\n",
      "None\n"
     ]
    }
   ],
   "source": [
    "import pandas as pd\n",
    "import matplotlib.pyplot as plt\n",
    "\n",
    "netflix_df = pd.read_csv('netflix_data.csv')\n",
    "print(netflix_df.info())"
   ]
  },
  {
   "cell_type": "code",
   "execution_count": 11,
   "metadata": {},
   "outputs": [
    {
     "name": "stdout",
     "output_type": "stream",
     "text": [
      "  show_id     type  title           director  \\\n",
      "0      s2    Movie   7:19  Jorge Michel Grau   \n",
      "1      s3    Movie  23:59       Gilbert Chan   \n",
      "2      s4    Movie      9        Shane Acker   \n",
      "3      s5    Movie     21     Robert Luketic   \n",
      "4      s6  TV Show     46        Serdar Akar   \n",
      "\n",
      "                                                cast        country  \\\n",
      "0  Demián Bichir, Héctor Bonilla, Oscar Serrano, ...         Mexico   \n",
      "1  Tedd Chan, Stella Chung, Henley Hii, Lawrence ...      Singapore   \n",
      "2  Elijah Wood, John C. Reilly, Jennifer Connelly...  United States   \n",
      "3  Jim Sturgess, Kevin Spacey, Kate Bosworth, Aar...  United States   \n",
      "4  Erdal Beşikçioğlu, Yasemin Allen, Melis Birkan...         Turkey   \n",
      "\n",
      "          date_added  release_year  duration  \\\n",
      "0  December 23, 2016          2016        93   \n",
      "1  December 20, 2018          2011        78   \n",
      "2  November 16, 2017          2009        80   \n",
      "3    January 1, 2020          2008       123   \n",
      "4       July 1, 2017          2016         1   \n",
      "\n",
      "                                         description             genre  \n",
      "0  After a devastating earthquake hits Mexico Cit...            Dramas  \n",
      "1  When an army recruit is found dead, his fellow...     Horror Movies  \n",
      "2  In a postapocalyptic world, rag-doll robots hi...            Action  \n",
      "3  A brilliant group of students become card-coun...            Dramas  \n",
      "4  A genetics professor experiments with a treatm...  International TV  \n"
     ]
    }
   ],
   "source": [
    "print(netflix_df.head())"
   ]
  },
  {
   "cell_type": "code",
   "execution_count": 12,
   "metadata": {},
   "outputs": [
    {
     "name": "stdout",
     "output_type": "stream",
     "text": [
      "     show_id   type                            title            director  \\\n",
      "6         s8  Movie                              187      Kevin Reynolds   \n",
      "118     s167  Movie                A Dangerous Woman  Stephen Gyllenhaal   \n",
      "145     s211  Movie           A Night at the Roxbury    John Fortenberry   \n",
      "167     s239  Movie  A Thin Line Between Love & Hate     Martin Lawrence   \n",
      "194     s274  Movie                     Aashik Awara         Umesh Mehra   \n",
      "...      ...    ...                              ...                 ...   \n",
      "4672   s7536  Movie                      West Beirut        Ziad Doueiri   \n",
      "4689   s7571  Movie      What's Eating Gilbert Grape     Lasse Hallström   \n",
      "4718   s7624  Movie                   Wild Wild West    Barry Sonnenfeld   \n",
      "4746   s7682  Movie                       Wyatt Earp     Lawrence Kasdan   \n",
      "4756   s7695  Movie                      Yaar Gaddar         Umesh Mehra   \n",
      "\n",
      "                                                   cast        country  \\\n",
      "6     Samuel L. Jackson, John Heard, Kelly Rowan, Cl...  United States   \n",
      "118   Debra Winger, Barbara Hershey, Gabriel Byrne, ...  United States   \n",
      "145   Will Ferrell, Chris Kattan, Dan Hedaya, Molly ...  United States   \n",
      "167   Martin Lawrence, Lynn Whitfield, Regina King, ...  United States   \n",
      "194   Saif Ali Khan, Mamta Kulkarni, Mohnish Bahl, S...          India   \n",
      "...                                                 ...            ...   \n",
      "4672  Rami Doueiri, Mohamad Chamas, Rola Al Amin, Ca...         France   \n",
      "4689  Johnny Depp, Leonardo DiCaprio, Juliette Lewis...  United States   \n",
      "4718  Will Smith, Kevin Kline, Kenneth Branagh, Salm...  United States   \n",
      "4746  Kevin Costner, Dennis Quaid, Gene Hackman, Dav...  United States   \n",
      "4756  Mithun Chakraborty, Saif Ali Khan, Somy Ali, P...          India   \n",
      "\n",
      "            date_added  release_year  duration  \\\n",
      "6     November 1, 2019          1997       119   \n",
      "118      April 1, 2018          1993       101   \n",
      "145   December 1, 2019          1998        82   \n",
      "167   December 1, 2020          1996       108   \n",
      "194       June 1, 2017          1993       154   \n",
      "...                ...           ...       ...   \n",
      "4672  October 19, 2020          1999       106   \n",
      "4689   January 1, 2021          1993       118   \n",
      "4718   January 1, 2020          1999       106   \n",
      "4746   January 1, 2020          1994       191   \n",
      "4756      July 1, 2017          1994       148   \n",
      "\n",
      "                                            description           genre  \n",
      "6     After one of his high school students attacks ...          Dramas  \n",
      "118   At the center of this engrossing melodrama is ...          Dramas  \n",
      "145   After a run-in with Richard Grieco, dimwits Do...        Comedies  \n",
      "167   When a philandering club promoter sets out to ...        Comedies  \n",
      "194   Raised by a kindly thief, orphaned Jimmy goes ...          Dramas  \n",
      "...                                                 ...             ...  \n",
      "4672  Three intrepid teens roam the streets of Beiru...          Dramas  \n",
      "4689  In a backwater Iowa town, young Gilbert is tor...  Classic Movies  \n",
      "4718  Armed with an ingenious arsenal, two top-notch...          Action  \n",
      "4746  Legendary lawman Wyatt Earp is continually at ...          Action  \n",
      "4756  When his brother becomes involved in a deadly ...          Dramas  \n",
      "\n",
      "[183 rows x 11 columns]\n"
     ]
    }
   ],
   "source": [
    "# Movies in 1990s\n",
    "movies_90s = netflix_df[(netflix_df[\"type\"] == \"Movie\") & netflix_df[\"release_year\"].between(1990, 1999)]\n",
    "print(movies_90s)"
   ]
  },
  {
   "cell_type": "code",
   "execution_count": null,
   "metadata": {},
   "outputs": [],
   "source": [
    "# Most frequent movie duration in the 1990s:\n",
    "movies_90s[\"duration\"].plt.hist()\n",
    "plt.show()"
   ]
  },
  {
   "cell_type": "code",
   "execution_count": 5,
   "metadata": {},
   "outputs": [
    {
     "name": "stdout",
     "output_type": "stream",
     "text": [
      "Most frequent movie duration in the 1990s: 195\n"
     ]
    }
   ],
   "source": [
    "# Most frequent movie duration in the 1990s\n",
    "\n",
    "duration = netflix_df[netflix_df['release_year'].between(1990, 1999)]['duration'].max()\n",
    "print(f\"Most frequent movie duration in the 1990s: {duration}\")"
   ]
  },
  {
   "cell_type": "code",
   "execution_count": 10,
   "metadata": {},
   "outputs": [
    {
     "name": "stdout",
     "output_type": "stream",
     "text": [
      "show_id         0\n",
      "type            0\n",
      "title           0\n",
      "director        0\n",
      "cast            0\n",
      "country         0\n",
      "date_added      0\n",
      "release_year    0\n",
      "duration        0\n",
      "description     0\n",
      "genre           0\n",
      "dtype: object\n"
     ]
    }
   ],
   "source": [
    "# A movie is considered short if it is less than 90 minutes. Count the number of short action movies released in the 1990s and save this integer as short_movie_count\n",
    "\n",
    "short_movie_count = netflix_df[(netflix_df[\"release_year\"].between(1990, 1999)) & (netflix_df[\"duration\"] < 90) & (netflix_df[\"genre\"] == \"action\")].sum()\n",
    "print(short_movie_count)"
   ]
  },
  {
   "cell_type": "code",
   "execution_count": null,
   "metadata": {},
   "outputs": [],
   "source": []
  }
 ],
 "metadata": {
  "kernelspec": {
   "display_name": "base",
   "language": "python",
   "name": "python3"
  },
  "language_info": {
   "codemirror_mode": {
    "name": "ipython",
    "version": 3
   },
   "file_extension": ".py",
   "mimetype": "text/x-python",
   "name": "python",
   "nbconvert_exporter": "python",
   "pygments_lexer": "ipython3",
   "version": "3.11.8"
  }
 },
 "nbformat": 4,
 "nbformat_minor": 2
}
